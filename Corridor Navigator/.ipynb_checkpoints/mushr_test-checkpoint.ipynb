{
 "cells": [
  {
   "cell_type": "markdown",
   "id": "f2c65afe-1a9a-4c56-8e1c-e3757ce2ffba",
   "metadata": {},
   "source": [
    "First, let's import `mujoco` and some other useful libraries."
   ]
  },
  {
   "cell_type": "code",
   "execution_count": 1,
   "id": "c1044f73-b66e-4b09-b4fd-f8b585fe3b0a",
   "metadata": {},
   "outputs": [],
   "source": [
    "import mujoco as mj\n",
    "from mujoco.glfw import glfw\n",
    "import numpy as np\n",
    "from callbacks import *\n",
    "from scipy.spatial.transform import Rotation as R"
   ]
  },
  {
   "cell_type": "markdown",
   "id": "1f6c088b-866e-4bf6-8f53-1581dd494f81",
   "metadata": {},
   "source": [
    "We will now set our model path, and ask MuJoCo to setup the following:\n",
    "\n",
    "* MuJoCo's `mjModel` contains the _model description_, i.e., all quantities that *do not change over time*. \n",
    "* `mjData` contains the state and the quantities that depend on it. In order to make an `mjData`, we need an `mjModel`. `mjData` also contains useful functions of the state, for e.g., the Cartesian positions of objects in the world frame.\n",
    "* `mjvCamera` and `mjvOption` are for visualization. We don't have to worry about this for now."
   ]
  },
  {
   "cell_type": "code",
   "execution_count": 2,
   "id": "52080801-6892-4cde-ad69-d72f2ba77629",
   "metadata": {},
   "outputs": [],
   "source": [
    "xml_path = 'models/mushr_corridor.xml'\n",
    "view = \"third\"\n",
    "assert view in [\"first\",\"third\"]\n",
    "simend = 600\n",
    "\n",
    "# MuJoCo data structures\n",
    "model = mj.MjModel.from_xml_path(xml_path)  # MuJoCo model\n",
    "data  = mj.MjData(model)                    # MuJoCo data\n",
    "cam   = mj.MjvCamera()                        # Abstract camera\n",
    "opt   = mj.MjvOption()                        # visualization options"
   ]
  },
  {
   "cell_type": "markdown",
   "id": "f4a19bb3-11a3-4239-9cc5-c33feed7069c",
   "metadata": {},
   "source": [
    "Next, we set up the visualization code. You don't have to change any of this code for Assignment 0."
   ]
  },
  {
   "cell_type": "code",
   "execution_count": 3,
   "id": "eb4a2533-0ca1-4412-94be-beb60610ee86",
   "metadata": {
    "tags": []
   },
   "outputs": [],
   "source": [
    "# Init GLFW, create window, make OpenGL context current, request v-sync\n",
    "glfw.init()\n",
    "window = glfw.create_window(800, 600, \"Demo\", None, None)\n",
    "glfw.make_context_current(window)\n",
    "glfw.swap_interval(1)\n",
    "\n",
    "# initialize visualization data structures\n",
    "mj.mjv_defaultCamera(cam)\n",
    "mj.mjv_defaultOption(opt)\n",
    "scene = mj.MjvScene(model, maxgeom=10000)\n",
    "context = mj.MjrContext(model, mj.mjtFontScale.mjFONTSCALE_150.value)\n",
    "\n",
    "cb = Callbacks(model,data,cam,scene)\n",
    "\n",
    "# install GLFW mouse and keyboard callbacks\n",
    "glfw.set_key_callback(window, cb.keyboard)\n",
    "glfw.set_cursor_pos_callback(window, cb.mouse_move)\n",
    "glfw.set_mouse_button_callback(window, cb.mouse_button)\n",
    "glfw.set_scroll_callback(window, cb.scroll)\n",
    "\n",
    "# Example on how to set camera configuration\n",
    "cam.azimuth = -90 ; cam.elevation = -45 ; cam.distance =  13\n",
    "cam.lookat =np.array([ 0.0 , 0.0 , 0.0 ])"
   ]
  },
  {
   "cell_type": "markdown",
   "id": "5363ca1d-dc31-4cdf-b074-641ac7ab284b",
   "metadata": {},
   "source": [
    "Now let's do something with our differential drive car. Our car has two actuators that control the velocity of the wheels. We can directly command these actuators to achieve a particular velocity by accessing `data.ctrl` variable. For a simple controller, like the one we'll be using in this notebook, this is fine. But for a more complicated controller, this will make our main simulation loop very clunky.\n",
    "\n",
    "Thankfully, MuJoCo lets us use a control _callback_ using the `set_mjcb_control` method. A callback function is a function passed into another function as an argument, which is then invoked inside the outer function to complete some kind of routine or action.\n",
    "\n",
    "This way, we can define our controller outside the main simulation loop, and then MuJoCo will call it automatically!"
   ]
  },
  {
   "cell_type": "code",
   "execution_count": 4,
   "id": "4cf22af8-6cba-429a-8c6e-05de7d6b8c0f",
   "metadata": {},
   "outputs": [],
   "source": [
    "class Controller:\n",
    "    def __init__(self,model,data):\n",
    "        # Initialize the controller here.\n",
    "        pass\n",
    "    \n",
    "    def controller(self,model,data):\n",
    "        data.ctrl[0] = 0.0\n",
    "        data.ctrl[1] = 0.0\n",
    "\n",
    "c = Controller(model,data)\n",
    "mj.set_mjcb_control(c.controller)"
   ]
  },
  {
   "cell_type": "markdown",
   "id": "21e037a2-d4ea-453a-a59d-1efe5a175233",
   "metadata": {},
   "source": [
    "The below while loop will continue executing for `simend` seconds, where `simend` is the end time we defined above. MuJoCo lets us keep track of the total elapsed time using the `data.time` variable.\n",
    "\n",
    "At a frequency of ~60Hz, it will step forward the simulation using the `mj_step` function. A more detailed explanation of what happens when you call `mj_step` is given [here](https://mujoco.readthedocs.io/en/latest/computation.html?highlight=mj_step#forward-dynamics). But for the sake of simplicity, you can asume that it applies the controls to the actuator, calculates the resulting forces, and computes the result of the dynamics.  "
   ]
  },
  {
   "cell_type": "code",
   "execution_count": 5,
   "id": "a648b645-9e22-42b8-8d6e-f98ee2df91c0",
   "metadata": {},
   "outputs": [],
   "source": [
    "trajectory = []\n",
    "\n",
    "while not glfw.window_should_close(window):\n",
    "    time_prev = data.time\n",
    "\n",
    "    while (data.time - time_prev < 1.0/60.0):\n",
    "        mj.mj_step(model,data)\n",
    "        trajectory.append(np.copy(data.qpos))\n",
    "        if view == \"first\":\n",
    "            cam.lookat[0] = data.site_xpos[1][0]\n",
    "            cam.lookat[1] = data.site_xpos[1][1]\n",
    "            cam.lookat[2] = data.site_xpos[1][2] + 0.5\n",
    "            cam.elevation = 0.0\n",
    "            cam.distance = 1.0\n",
    "    \n",
    "    if data.time >= simend:\n",
    "        break\n",
    "\n",
    "    # ==================================================================================\n",
    "    # The below code updates the visualization -- do not modify it!\n",
    "    # ==================================================================================\n",
    "    # get framebuffer viewport\n",
    "    viewport_width, viewport_height = glfw.get_framebuffer_size(window)\n",
    "    viewport = mj.MjrRect(0, 0, viewport_width, viewport_height)\n",
    "\n",
    "    # Update scene and render\n",
    "    mj.mjv_updateScene(model, data, opt, None, cam, mj.mjtCatBit.mjCAT_ALL.value, scene)\n",
    "    mj.mjr_render(viewport, scene, context)\n",
    "\n",
    "    # swap OpenGL buffers (blocking call due to v-sync)\n",
    "    glfw.swap_buffers(window)\n",
    "\n",
    "    # process pending GUI events, call GLFW callbacks\n",
    "    glfw.poll_events()\n",
    "    \n",
    "\n",
    "glfw.terminate()"
   ]
  }
 ],
 "metadata": {
  "kernelspec": {
   "display_name": "Python 3 (ipykernel)",
   "language": "python",
   "name": "python3"
  },
  "language_info": {
   "codemirror_mode": {
    "name": "ipython",
    "version": 3
   },
   "file_extension": ".py",
   "mimetype": "text/x-python",
   "name": "python",
   "nbconvert_exporter": "python",
   "pygments_lexer": "ipython3",
   "version": "3.9.13"
  }
 },
 "nbformat": 4,
 "nbformat_minor": 5
}
